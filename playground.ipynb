{
 "cells": [
  {
   "cell_type": "code",
   "execution_count": 1,
   "metadata": {},
   "outputs": [],
   "source": [
    "import os, getpass\n",
    "\n",
    "def _set_env(var: str):\n",
    "    if not os.environ.get(var):\n",
    "        os.environ[var] = getpass.getpass(f\"{var}: \")\n"
   ]
  },
  {
   "cell_type": "code",
   "execution_count": 13,
   "metadata": {},
   "outputs": [],
   "source": [
    "_set_env(\"OPENAI_API_KEY\")\n",
    "_set_env(\"LANGSMITH_ENDPOINT\")\n",
    "_set_env(\"LANGSMITH_API_KEY\")\n",
    "_set_env(\"LANGSMITH_PROJECT\")"
   ]
  },
  {
   "cell_type": "code",
   "execution_count": 7,
   "metadata": {},
   "outputs": [],
   "source": [
    "from langchain_openai import ChatOpenAI\n",
    "\n",
    "llm = ChatOpenAI(model='gpt-4o')"
   ]
  },
  {
   "cell_type": "code",
   "execution_count": 9,
   "metadata": {},
   "outputs": [],
   "source": [
    "from googleapiclient.discovery import build \n",
    "from comentary_extractor import CommentExtractor, CommentExtractorResponse\n",
    "\n",
    "_set_env(\"YOUTUBE_API_KEY\")\n",
    "\n",
    "def comentaries(video_url: str, next_page_token: str | None = None) -> CommentExtractorResponse:\n",
    "    \"\"\"\n",
    "    Extracts the comments from a YouTube video given its URL.\n",
    "\n",
    "    Args:\n",
    "        video_url: (str) The URL of the YouTube video.\n",
    "        next_page_token: (str | None) The token for pagination, if provided search the next commentaries\n",
    "\n",
    "    Returns:\n",
    "        ComentExtractorResponse: A dict containing the comments and next_page_token (can be None).\n",
    "    \"\"\"\n",
    "\n",
    "    youtube = build('youtube', 'v3', developerKey=os.getenv(\"YOUTUBE_API_KEY\"))\n",
    "    extractor = CommentExtractor(\n",
    "        video_url,\n",
    "        youtube=youtube\n",
    "    )\n",
    "    response = extractor.extract(next_page_token)\n",
    "\n",
    "    return response"
   ]
  },
  {
   "cell_type": "code",
   "execution_count": 10,
   "metadata": {},
   "outputs": [],
   "source": [
    "tools = [comentaries]\n",
    "chat = llm.bind_tools(tools)"
   ]
  },
  {
   "cell_type": "code",
   "execution_count": 20,
   "metadata": {},
   "outputs": [],
   "source": [
    "from langgraph.graph import MessagesState\n",
    "from langchain_core.messages import SystemMessage, HumanMessage\n",
    "\n",
    "SYSTEM = SystemMessage(content=\"You are an Digital Marketeer tasked with the activity to extract the feeling of a youtube video commentaries. If you need more comentaries you are an Digital Marketeer\")\n",
    "\n",
    "def assistant(state: MessagesState):\n",
    "    return {\"messages\": [\n",
    "        chat.invoke([SYSTEM] + state[\"messages\"])\n",
    "    ]}"
   ]
  },
  {
   "cell_type": "code",
   "execution_count": 16,
   "metadata": {},
   "outputs": [
    {
     "data": {
      "image/jpeg": "[encoded data removed]",
      "text/plain": [
       "<IPython.core.display.Image object>"
      ]
     },
     "metadata": {},
     "output_type": "display_data"
    }
   ],
   "source": [
    "from langgraph.graph import START, StateGraph\n",
    "from langgraph.prebuilt import tools_condition, ToolNode\n",
    "from IPython.display import Image, display\n",
    "\n",
    "builder = StateGraph(MessagesState)\n",
    "\n",
    "builder.add_node(\"assistant\", assistant)\n",
    "builder.add_node(\"tools\", ToolNode(tools))\n",
    "\n",
    "builder.add_edge(START, \"assistant\")\n",
    "builder.add_conditional_edges(\n",
    "    \"assistant\",\n",
    "    tools_condition\n",
    ")\n",
    "\n",
    "builder.add_edge(\"tools\", \"assistant\")\n",
    "\n",
    "graph = builder.compile()\n",
    "\n",
    "display(Image(graph.get_graph(xray=True).draw_mermaid_png()))"
   ]
  },
  {
   "cell_type": "code",
   "execution_count": 18,
   "metadata": {},
   "outputs": [],
   "source": [
    "messages = [HumanMessage(content=\"Poderia analizar os comentários desse vídeo: https://www.youtube.com/watch?v=ML8h9pgWyXw\")]\n",
    "messages = graph.invoke({\"messages\": messages})"
   ]
  },
  {
   "cell_type": "code",
   "execution_count": 19,
   "metadata": {},
   "outputs": [
    {
     "name": "stdout",
     "output_type": "stream",
     "text": [
      "================================\u001b[1m Human Message \u001b[0m=================================\n",
      "\n",
      "Poderia analizar os comentários desse vídeo: https://www.youtube.com/watch?v=ML8h9pgWyXw\n",
      "==================================\u001b[1m Ai Message \u001b[0m==================================\n",
      "Tool Calls:\n",
      "  comentaries (call_9iis0e5oX7zmfavb6xKcAQ8q)\n",
      " Call ID: call_9iis0e5oX7zmfavb6xKcAQ8q\n",
      "  Args:\n",
      "    video_url: https://www.youtube.com/watch?v=ML8h9pgWyXw\n",
      "=================================\u001b[1m Tool Message \u001b[0m=================================\n",
      "Name: comentaries\n",
      "\n",
      "{\"comments\": [{\"id\": \"UgyxNvPyNr12RycRUx14AaABAg\", \"text\": \"Meetup da FIAP + Alura. Se inscreva!\\nhttps://www.sympla.com.br/evento/meetup-de-comunidades-dominando-flutter-da-personalizacao-de-dados-a-construcao-de-carreira/2871457\", \"user_name\": \"@FlutterandoTV\", \"date\": \"2025-03-26T00:14:22Z\", \"replies\": []}, {\"id\": \"UgzIO80Z-3K6ZG5j8Xt4AaABAg\", \"text\": \"vida longa ao dart 🚀\", \"user_name\": \"@merengdev\", \"date\": \"2025-03-26T11:37:45Z\", \"replies\": []}, {\"id\": \"Ugyj_-RPQzfBp8Yuj7R4AaABAg\", \"text\": \"É uma honra para mim fazer parte deste projeto, ainda mais com uma equipe tão incrível!\", \"user_name\": \"@marcosdanielr\", \"date\": \"2025-03-26T00:46:37Z\", \"replies\": []}, {\"id\": \"UgxtXqyldJIE1T_Y3Ch4AaABAg\", \"text\": \"Isso é só o começo de um projeto gigante\", \"user_name\": \"@brenoitalo16\", \"date\": \"2025-03-26T00:45:31Z\", \"replies\": []}, {\"id\": \"UgznIU7L4fqpHvGZO1R4AaABAg\", \"text\": \"vai ser mt daora utilizar o vaden pro back end!\", \"user_name\": \"@GabrielFerreira-qv4bl\", \"date\": \"2025-03-26T00:37:37Z\", \"replies\": []}, {\"id\": \"UgwqBpZZInlLd5Rh6854AaABAg\", \"text\": \"Parabéns aos envolvidos!! Tá acontecendo\", \"user_name\": \"@stroherdebora\", \"date\": \"2025-03-26T00:50:44Z\", \"replies\": []}, {\"id\": \"UgzwIGPd3fuz0wJf7qV4AaABAg\", \"text\": \"Absolutamente hypado  🤯\", \"user_name\": \"@ojCezarFerreira\", \"date\": \"2025-03-26T12:21:33Z\", \"replies\": []}, {\"id\": \"UgwjOy1LrkEy46vw-eN4AaABAg\", \"text\": \"Nao sou desenvolvedor (ainda), mas fico muito feliz que um projeto tao bom é brasileiro e vai ajudar o Dart a ter algo tao necessário, que é o back end. Desejo todo sucesso ao projeto.\", \"user_name\": \"@klauberoliveira9909\", \"date\": \"2025-03-26T10:29:25Z\", \"replies\": []}, {\"id\": \"UgwjuFv_Sn_Pw1b-Dzx4AaABAg\", \"text\": \"Parabéns aos envolvidos!! sucesso jacob, tenho uma sugestão pra vcs colocarem o sqlite como um banco de dados em memoria semelhante ao H2 do spring acho que seira interessante\", \"user_name\": \"@EliasVitor-s5d\", \"date\": \"2025-03-26T01:50:22Z\", \"replies\": []}, {\"id\": \"UgxXjUmGvp9GfyEviud4AaABAg\", \"text\": \"Meu Deus, que coisa maravilhosa! Esse framework realmente é o \\\"Game Change\\\" para o Dart 😍\\nNão duvido nada que agora, com o Flutter e Vaden o Dart será o matador de JavaScript kkkkkkkkk\", \"user_name\": \"@luizzeduardo341\", \"date\": \"2025-03-26T05:36:50Z\", \"replies\": []}, {\"id\": \"UgyCCjvE-DiJ77gRZih4AaABAg\", \"text\": \"Vai ser sucesso🎉\", \"user_name\": \"@Diego-ky5ng\", \"date\": \"2025-03-26T09:59:31Z\", \"replies\": []}, {\"id\": \"UgziWR9xvAyYPXmgX9B4AaABAg\", \"text\": \"Top hein. Fiz um teste hoje e gostei muito. Tudo bem facilitado, com ferramentas sempre à mão.\", \"user_name\": \"@DevZeca\", \"date\": \"2025-03-26T00:58:15Z\", \"replies\": []}, {\"id\": \"UgxebJBZeGyAq5a7yUV4AaABAg\", \"text\": \"Que a força esteja conosco! 🎯\", \"user_name\": \"@eronplay1015\", \"date\": \"2025-03-26T02:32:05Z\", \"replies\": []}, {\"id\": \"Ugx1LT4uDNG8ttQSKmp4AaABAg\", \"text\": \"Cara, ficou muito top, parabéns\", \"user_name\": \"@wilsontanaka9430\", \"date\": \"2025-03-26T01:49:19Z\", \"replies\": []}, {\"id\": \"UgyR3U8cwheN2VxdD4J4AaABAg\", \"text\": \"sucesso, pra cima! gostei de ver\", \"user_name\": \"@leandrocavalcante769\", \"date\": \"2025-03-26T02:52:52Z\", \"replies\": []}, {\"id\": \"Ugw4g_eW7I4pkl0gT494AaABAg\", \"text\": \"Olha só o meu irmão ali: Marcos . Pretendo fazer um projeto com o vaden\", \"user_name\": \"@Azbito\", \"date\": \"2025-03-26T00:50:58Z\", \"replies\": []}, {\"id\": \"UgxC4XouI9bhABxhtFt4AaABAg\", \"text\": \"Sucesso time flutterando! Excelente idéia!\", \"user_name\": \"@REDIDSoft\", \"date\": \"2025-03-26T02:10:05Z\", \"replies\": []}, {\"id\": \"Ugw3Y39EXp896I1DLZl4AaABAg\", \"text\": \"Muito boa a iniciativa, flutterando cada vez mais gigante e como sempre diz está se tornando cada vez mais referência 🎉🎉\", \"user_name\": \"@edilsontavares7128\", \"date\": \"2025-03-26T08:02:13Z\", \"replies\": []}, {\"id\": \"Ugy1tL-_ey4GGzwo9K54AaABAg\", \"text\": \"Essa ideia do uso do class scanner foi uma sacada de mestre. Parabéns aos envolvidos, já baixei e ja criei meu primeiro projetinho kkk\", \"user_name\": \"@bdmaxvalera\", \"date\": \"2025-03-26T00:55:17Z\", \"replies\": []}, {\"id\": \"UgyLh2hLYrY9Ta9V6sB4AaABAg\", \"text\": \"Sucesso jacob, vai ser sensacional usar dart no backend\", \"user_name\": \"@thiagofofano4410\", \"date\": \"2025-03-26T00:34:49Z\", \"replies\": []}, {\"id\": \"Ugwqj65sHFZGmcMmw8x4AaABAg\", \"text\": \"meu mano, vc é muito top\", \"user_name\": \"@victorlopes5759\", \"date\": \"2025-03-26T03:11:14Z\", \"replies\": []}, {\"id\": \"Ugxo8JVv38gGo2uEDIJ4AaABAg\", \"text\": \"Estamos juntos\", \"user_name\": \"@atsgrisolfi\", \"date\": \"2025-03-26T00:33:11Z\", \"replies\": []}, {\"id\": \"UgyzpJQt-uFMxgomcWJ4AaABAg\", \"text\": \"O cara ama o Dart mais que o Google, Parabens\", \"user_name\": \"@LucasCastro-fu1ik\", \"date\": \"2025-03-26T12:55:44Z\", \"replies\": []}, {\"id\": \"UgwPe8KnCRUaVu0w4md4AaABAg\", \"text\": \"Top demais 🔥\", \"user_name\": \"@luizkrzyzaniak\", \"date\": \"2025-03-26T01:24:56Z\", \"replies\": []}, {\"id\": \"UgwRztl67HFHZXcJElt4AaABAg\", \"text\": \"Que vídeo top, Jacob 👏👏👏👏👏\", \"user_name\": \"@brenoitalo16\", \"date\": \"2025-03-26T00:44:53Z\", \"replies\": []}, {\"id\": \"UgxKFG4VBqL25c4KCJx4AaABAg\", \"text\": \"hypadaço com esse projeto, vai ser mt bom\", \"user_name\": \"@ursochurrasqueira\", \"date\": \"2025-03-26T01:37:50Z\", \"replies\": []}, {\"id\": \"UgwiYx5yWOvCC5qPxk14AaABAg\", \"text\": \"Vc acha que é possível trabalhar nessa metodologia utilizando os mesmo conceitos de patterns e microserviços que a gente utiliza na arquitetura spring?\\nCara sempre fui muito Flutter fanboy e isso ta me deixando muito entusiasmado, pq eu sou um cara que venho do java com spring\", \"user_name\": \"@zbgamesplay\", \"date\": \"2025-03-26T11:57:31Z\", \"replies\": [\"Acredito que sim,  mensageria nós temos já\"]}, {\"id\": \"UgxHvM07P_em02FAVrh4AaABAg\", \"text\": \"O entity framework do aspnet tem o automapper que faz a query do banco performática só com os campos do dto, vai dar pra fazer a mesma coisa ai?\", \"user_name\": \"@TheWellington1997\", \"date\": \"2025-03-26T03:10:52Z\", \"replies\": [\"Com certeza\"]}, {\"id\": \"UgwG1PPJic8N87llrrN4AaABAg\", \"text\": \"Quem deixa de usar uma tecnologia por fofoca de influencer tem que se lascar kkkk\", \"user_name\": \"@YT.undefined\", \"date\": \"2025-03-26T00:37:08Z\", \"replies\": []}, {\"id\": \"Ugwc9GCWVC_BvKe2RkV4AaABAg\", \"text\": \"Adoraria passar o video adiante, mas nao posso pq no comeco do video vc diz q o flutter está passando por problemas e está com capacidades de morte, isso acaba com toda a validação de qualquer coisa q vc esteja fazendo, se eu passar isso para meu chefe por ex, ele com certeza NAO utilizaria a solucao e até tentaria tirar o flutter dos aplicativos que temos hoje, poderia soltar um video SEM esse comentario? obrigado!\", \"user_name\": \"@lusca28\", \"date\": \"2025-03-26T01:43:30Z\", \"replies\": [\"Ac\", \"A polemica da morte do Flutter? \\nVc nao pegou essa parte n que todo mundo saia dizendo q ia morrer por nada?\", \"@ trabalho com flutter desde meados de 2019, implementei em um banco brasileiro a solucao em 3 aplicativos desde 2020, se eu fosse ficar olhando toda hora q o povo fala q vai matar, eu nao tinha emprego e provavelmente tava em depressao pq abanconei o nativo por completo pra conseguir focar nisso.. a questão é: gerente, superintendente, diretor, eles tao nem ai pra essa ladainha, assim como eu, queremos saber das solucoes boas inclusive a q vcs criaram pro back, é muito anticlimax vc comecar o video com isso, como vou vender isso pra eles sendo q logo no comeco ja é desencorajado?\"]}, {\"id\": \"UgyR3KEW4p9T9ibrQrl4AaABAg\", \"text\": \"Os únicos recursos que eu preciso e que não vejo o Dart como linguagem pra isso é: mapeamento objeto relacional como o Hibernate do Java; programação concorrente/paralela como o Java ou Go.\", \"user_name\": \"@mrcostaandre\", \"date\": \"2025-03-26T10:56:17Z\", \"replies\": [\"O Isolate n é melhor que a concorrencia do Java?\", \"@@FlutterandoTV Com certeza não! Isolate isola o código em 1 unica thread, o ponto é que o java e go \\\"cria\\\" threads novas.\"]}, {\"id\": \"UgzQ9yQ2jvVXTJV9E5N4AaABAg\", \"text\": \"🎉🎉🎉🎉🎉🎉\", \"user_name\": \"@allansrc\", \"date\": \"2025-03-26T02:21:03Z\", \"replies\": []}, {\"id\": \"Ugy9MsHK14zmYPUU1E54AaABAg\", \"text\": \"up\", \"user_name\": \"@VictorOnMobile\", \"date\": \"2025-03-26T12:04:09Z\", \"replies\": []}, {\"id\": \"UgwgHfNclSFJZjAqQXd4AaABAg\", \"text\": \"Up\", \"user_name\": \"@orlandoeduardopereira\", \"date\": \"2025-03-26T00:34:40Z\", \"replies\": []}, {\"id\": \"UgyhfQcVcZqD3KfSMzt4AaABAg\", \"text\": \"Prepare-se pra ter que escrever um calhamaço so pra criar uma rota.\", \"user_name\": \"@jeffersonportela2295\", \"date\": \"2025-03-26T06:28:01Z\", \"replies\": [\"Mas se escreve rota com 1 linha\"]}, {\"id\": \"UgyozMLSQpDTusY1M114AaABAg\", \"text\": \"Já nasceu complicado... nada comparado à simplicidade de um Fastapi ou flask em python. Isso é o  que mata a coisa toda... \\n\\nContudo, sou fã do dart e da comunidade brasileira dart/flutter... but... keep it simple!\", \"user_name\": \"@renerodriguesveloso2729\", \"date\": \"2025-03-26T02:28:21Z\", \"replies\": [\"O que está complicado?\"]}, {\"id\": \"Ugw_TSBadZljGK_eMa54AaABAg\", \"text\": \"A musiquinha no fundo incomodou mais alguém ?\", \"user_name\": \"@Andys2eduarda\", \"date\": \"2025-03-26T01:18:17Z\", \"replies\": [\"Eu achei tão legal!!!\", \"Eu tb achei!\", \"Eu tb!\", \"Me too\", \"Galera eu tb achei kkkkkkkk\"]}], \"next_page_token\": null}\n",
      "==================================\u001b[1m Ai Message \u001b[0m==================================\n",
      "\n",
      "Os comentários do vídeo no YouTube sobre o projeto relacionado ao Dart e ao Flutter são predominantemente positivos e entusiasmados. Aqui estão algumas das principais impressões:\n",
      "\n",
      "1. **Entusiasmo e Apoio**: Muitos comentários expressam entusiasmo e apoio ao projeto, com várias pessoas parabenizando os envolvidos e mostrando-se animadas com o potencial do Dart no backend. Há um sentimento de orgulho, especialmente por ser um projeto brasileiro.\n",
      "\n",
      "2. **Expectativas Altas**: Há uma grande expectativa de que o framework traga mudanças significativas para o Dart, com alguns usuários comparando-o a soluções existentes em outras linguagens, como Java e Python.\n",
      "\n",
      "3. **Feedback Construtivo**: Alguns comentários oferecem sugestões, como a inclusão de certas funcionalidades ou melhorias na apresentação do conteúdo, como a música de fundo que alguns acharam incômoda.\n",
      "\n",
      "4. **Discussão Técnica**: Há discussões técnicas sobre as capacidades do Dart comparadas a outras linguagens e frameworks, com algumas pessoas defendendo suas funcionalidades enquanto outras apontam áreas que poderiam ser aprimoradas.\n",
      "\n",
      "5. **Comunidade Engajada**: A comunidade parece bastante engajada, com muitos usuários expressando vontade de testar e utilizar o novo framework em seus projetos pessoais.\n",
      "\n",
      "Em suma, a recepção ao vídeo é amplamente positiva, com uma comunidade envolvida e ansiosa para explorar as novas possibilidades que o projeto oferece para o Dart e o Flutter.\n"
     ]
    }
   ],
   "source": [
    "for m in messages['messages']:\n",
    "    m.pretty_print()"
   ]
  }
 ],
 "metadata": {
  "kernelspec": {
   "display_name": "scoras",
   "language": "python",
   "name": "python3"
  },
  "language_info": {
   "codemirror_mode": {
    "name": "ipython",
    "version": 3
   },
   "file_extension": ".py",
   "mimetype": "text/x-python",
   "name": "python",
   "nbconvert_exporter": "python",
   "pygments_lexer": "ipython3",
   "version": "3.11.11"
  }
 },
 "nbformat": 4,
 "nbformat_minor": 2
}
